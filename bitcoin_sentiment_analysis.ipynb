{
 "cells": [
  {
   "cell_type": "markdown",
   "metadata": {},
   "source": [
    "# Analisi della Correlazione tra Sentiment delle Notizie e Prezzo di Bitcoin\n",
    "\n",
    "**Nome:** Alessandro Zucchiatti\n",
    "**Corso:** Fondamenti di Analisi Dati e Laboratorio\n",
    "**Progetto:** Analisi del sentiment e dell'andamento di prezzo di Bitcoin\n",
    "\n",
    "### Obiettivo\n",
    "Investigare la relazione tra il sentiment delle notizie su Bitcoin e l'andamento del prezzo giornaliero tramite feature engineering e modelli statistici.\n",
    "\n",
    "**Domanda di ricerca:** Esiste una correlazione statisticamente significativa tra il sentiment aggregato giornaliero delle notizie e la variazione percentuale del prezzo di Bitcoin del giorno successivo?"
   ]
  },
  {
   "cell_type": "markdown",
   "metadata": {},
   "source": [
    "### Setup e Import Librerie"
   ]
  },
  {
   "cell_type": "code",
   "execution_count": null,
   "metadata": {},
   "outputs": [],
   "source": [
    "import pandas as pd\n",
    "import numpy as np\n",
    "import matplotlib.pyplot as plt\n",
    "import matplotlib.dates as mdates\n",
    "import seaborn as sns\n",
    "import yfinance as yf\n",
    "import ast\n",
    "import kagglehub\n",
    "from IPython.display import display\n",
    "from sklearn.model_selection import train_test_split\n",
    "from sklearn.linear_model import LinearRegression\n",
    "from sklearn.metrics import mean_squared_error, r2_score\n",
    "from statsmodels.tsa.stattools import grangercausalitytests\n",
    "\n",
    "sns.set_style('whitegrid')\n",
    "plt.rcParams['figure.figsize'] = (15, 7)\n",
    "plt.rcParams['figure.dpi'] = 100\n",
    "plt.style.use('dark_background') \n",
    "\n",
    "plt.rcParams.update({\n",
    "    \"font.size\": 11,                 # testo leggermente più grande\n",
    "    \"axes.titleweight\": \"bold\",\n",
    "    \"axes.edgecolor\": \"#444444\",\n",
    "    \"grid.color\": \"#555555\",\n",
    "    \"grid.alpha\": 0.3,\n",
    "})\n",
    "\n",
    "print(\"Librerie importate con successo!\")"
   ]
  },
  {
   "cell_type": "markdown",
   "metadata": {},
   "source": [
    "### Caricamento e Preparazione dei Dati"
   ]
  },
  {
   "cell_type": "code",
   "execution_count": null,
   "metadata": {},
   "outputs": [],
   "source": [
    "# Caricamento dataset sentiment\n",
    "path = kagglehub.dataset_download('oliviervha/crypto-news')\n",
    "file_path = path + \"/cryptonews.csv\"\n",
    "\n",
    "try:\n",
    "    sentiment_df = pd.read_csv(file_path)\n",
    "    print(\"Dataset del sentiment caricato.\")\n",
    "    display(sentiment_df.head())\n",
    "except FileNotFoundError:\n",
    "    print(f\"Errore: File '{file_path}' non trovato.\")"
   ]
  },
  {
   "cell_type": "code",
   "execution_count": null,
   "metadata": {},
   "outputs": [],
   "source": [
    "# Filtraggio e pulizia dati sentiment\n",
    "btc_sentiment_df = sentiment_df[sentiment_df['subject'] == 'bitcoin'].copy()\n",
    "\n",
    "def parse_sentiment(sentiment_str):\n",
    "    try:\n",
    "        return ast.literal_eval(sentiment_str)\n",
    "    except (ValueError, SyntaxError):\n",
    "        return {'class': 'neutral', 'polarity': 0.0, 'subjectivity': 0.0}\n",
    "\n",
    "sentiment_dicts = btc_sentiment_df['sentiment'].apply(parse_sentiment)\n",
    "btc_sentiment_df['sentiment_class'] = [d.get('class', 'neutral') for d in sentiment_dicts]\n",
    "btc_sentiment_df['polarity'] = [d.get('polarity', 0.0) for d in sentiment_dicts]\n",
    "btc_sentiment_df['subjectivity'] = [d.get('subjectivity', 0.0) for d in sentiment_dicts]\n",
    "btc_sentiment_df['date'] = pd.to_datetime(btc_sentiment_df['date'])\n",
    "btc_sentiment_df = btc_sentiment_df[['date', 'sentiment_class', 'polarity', 'subjectivity']]\n",
    "\n",
    "print(\"Pulizia dati sentiment completata.\")\n",
    "display(btc_sentiment_df.head())"
   ]
  },
  {
   "cell_type": "code",
   "execution_count": null,
   "metadata": {},
   "outputs": [],
   "source": [
    "# Caricamento dati prezzo Bitcoin\n",
    "start_date = btc_sentiment_df['date'].min().strftime('%Y-%m-%d')\n",
    "end_date = (btc_sentiment_df['date'].max() + pd.Timedelta(days=1)).strftime('%Y-%m-%d')\n",
    "\n",
    "btc_price_df = yf.download('BTC-USD', start=start_date, end=end_date)\n",
    "btc_price_df['pct_change'] = btc_price_df['Close'].pct_change() * 100\n",
    "btc_price_df = btc_price_df.reset_index().rename(columns={'Date': 'date'})\n",
    "\n",
    "print(f\"Dati prezzo Bitcoin scaricati dal {start_date} al {end_date}.\")\n",
    "display(btc_price_df.head())"
   ]
  },
  {
   "cell_type": "markdown",
   "metadata": {},
   "source": [
    "### Aggregazione e Feature Engineering"
   ]
  },
  {
   "cell_type": "code",
   "execution_count": null,
   "metadata": {},
   "outputs": [],
   "source": [
    "# Aggregazione sentiment su base giornaliera\n",
    "btc_sentiment_df.set_index('date', inplace=True)\n",
    "daily_sentiment = btc_sentiment_df.resample('D').agg(\n",
    "    polarity_mean=('polarity', 'mean'),\n",
    "    polarity_std=('polarity', 'std'),\n",
    "    subjectivity_mean=('subjectivity', 'mean'),\n",
    "    news_count=('polarity', 'count')\n",
    ")\n",
    "daily_sentiment['polarity_std'] = daily_sentiment['polarity_std'].fillna(0)\n",
    "daily_sentiment = daily_sentiment[daily_sentiment['news_count'] > 0].reset_index()\n",
    "\n",
    "print(\"Aggregazione giornaliera completata.\")\n",
    "display(daily_sentiment.head())"
   ]
  },
  {
   "cell_type": "markdown",
   "metadata": {},
   "source": [
    "### Unione dei Dati"
   ]
  },
  {
   "cell_type": "code",
   "execution_count": null,
   "metadata": {},
   "outputs": [],
   "source": [
    "# Merge dei dataset\n",
    "daily_sentiment['date'] = daily_sentiment['date'].dt.tz_localize(None)\n",
    "\n",
    "if isinstance(btc_price_df.columns, pd.MultiIndex):\n",
    "    btc_price_df.columns = btc_price_df.columns.droplevel(1)\n",
    "\n",
    "btc_price_df['date'] = pd.to_datetime(btc_price_df['date'])\n",
    "df_merged = pd.merge(btc_price_df, daily_sentiment, on='date', how='inner')\n",
    "df_merged = df_merged.dropna().set_index('date')\n",
    "\n",
    "print(f\"Merge completato: {len(df_merged)} righe\")\n",
    "display(df_merged.head())"
   ]
  },
  {
   "cell_type": "markdown",
   "metadata": {},
   "source": [
    "### Analisi Esplorativa e Visualizzazione"
   ]
  },
  {
   "cell_type": "code",
   "execution_count": null,
   "metadata": {},
   "outputs": [],
   "source": [
    "# Andamento prezzo vs polarità\n",
    "fig, ax1 = plt.subplots()\n",
    "ax1.plot(\n",
    "    df_merged.index,\n",
    "    df_merged['Close'],\n",
    "    color='#9ef01a',            # lime\n",
    "    linewidth=2.2,\n",
    "    marker='o',\n",
    "    markersize=3,\n",
    "    label='Prezzo BTC'\n",
    ")\n",
    "\n",
    "ax1.set_xlabel('Data')\n",
    "ax1.set_ylabel('Prezzo (USD)', color='#9ef01a')\n",
    "ax1.tick_params(axis='y', labelcolor='#9ef01a')\n",
    "\n",
    "# Date su due righe “Mese / Anno”\n",
    "ax1.xaxis.set_major_formatter(mdates.DateFormatter('%b\\n%Y'))\n",
    "ax1.grid(True, linestyle='--', linewidth=0.6, alpha=0.3)\n",
    "\n",
    "ax2 = ax1.twinx()\n",
    "ax2.plot(\n",
    "    df_merged.index,\n",
    "    df_merged['polarity_mean'].rolling(window=7).mean(),\n",
    "    color='#e600ac',            # magenta\n",
    "    linewidth=2,\n",
    "    label='Polarità (Media 7gg)'\n",
    ")\n",
    "\n",
    "ax2.set_ylabel('Polarità Media', color='#e600ac')\n",
    "ax2.tick_params(axis='y', labelcolor='#e600ac')\n",
    "ax2.axhline(0, color='#888888', linestyle='--', linewidth=1)\n",
    "\n",
    "handles, labels = [], []\n",
    "for ax in (ax1, ax2):\n",
    "    h, l = ax.get_legend_handles_labels()\n",
    "    handles.extend(h)\n",
    "    labels.extend(l)\n",
    "\n",
    "ax1.legend(\n",
    "    handles, labels,\n",
    "    loc='upper left',\n",
    "    frameon=True,\n",
    "    facecolor='#222222',\n",
    "    framealpha=0.8\n",
    ")\n",
    "\n",
    "plt.title('Prezzo Bitcoin vs. Polarità Media Notizie')\n",
    "fig.tight_layout()\n",
    "plt.show()\n"
   ]
  },
  {
   "cell_type": "code",
   "execution_count": null,
   "metadata": {},
   "outputs": [],
   "source": [
    "# Matrice di correlazione\n",
    "correlation_cols = ['Close', 'Volume', 'pct_change', 'polarity_mean', 'polarity_std', 'subjectivity_mean', 'news_count']\n",
    "correlation_matrix = df_merged[correlation_cols].corr()\n",
    "\n",
    "plt.figure(figsize=(10, 8))\n",
    "sns.heatmap(correlation_matrix, annot=True, cmap='coolwarm', fmt=\".2f\", linewidths=.5)\n",
    "plt.title('Matrice di Correlazione')\n",
    "plt.show()"
   ]
  },
  {
   "cell_type": "code",
   "execution_count": null,
   "metadata": {},
   "outputs": [],
   "source": [
    "# Scatter plot polarità vs variazione prezzo\n",
    "sns.regplot(x='polarity_mean', y='pct_change', data=df_merged, \n",
    "            scatter_kws={'alpha':0.3, 'color': 'royalblue'}, \n",
    "            line_kws={'color':'red', 'linestyle':'--'})\n",
    "plt.title('Variazione % Prezzo vs. Polarità Media')\n",
    "plt.xlabel('Polarità Media')\n",
    "plt.ylabel('Variazione % Prezzo')\n",
    "plt.show()"
   ]
  },
  {
   "cell_type": "markdown",
   "metadata": {},
   "source": [
    "### Modellazione Predittiva"
   ]
  },
  {
   "cell_type": "code",
   "execution_count": null,
   "metadata": {},
   "outputs": [],
   "source": [
    "# Preparazione dati per modello predittivo\n",
    "df_model = df_merged.copy()\n",
    "df_model['target_pct_change'] = df_model['pct_change'].shift(-1)\n",
    "df_model = df_model.dropna()\n",
    "\n",
    "features = ['polarity_mean', 'polarity_std', 'subjectivity_mean', 'news_count', 'Volume', 'pct_change']\n",
    "X = df_model[features]\n",
    "y = df_model['target_pct_change']\n",
    "\n",
    "X_train, X_test, y_train, y_test = train_test_split(X, y, test_size=0.2, random_state=42, shuffle=False)\n",
    "print(f\"Dataset: {X_train.shape[0]} train, {X_test.shape[0]} test\")"
   ]
  },
  {
   "cell_type": "code",
   "execution_count": null,
   "metadata": {},
   "outputs": [],
   "source": [
    "# Regressione lineare\n",
    "model = LinearRegression()\n",
    "model.fit(X_train, y_train)\n",
    "y_pred = model.predict(X_test)\n",
    "\n",
    "mse = mean_squared_error(y_test, y_pred)\n",
    "r2 = r2_score(y_test, y_pred)\n",
    "\n",
    "print(f\"Regressione Lineare - MSE: {mse:.4f}, R²: {r2:.4f}\")\n",
    "\n",
    "coeffs = pd.DataFrame(model.coef_, X.columns, columns=['Coefficiente']).sort_values('Coefficiente', ascending=False)\n",
    "print(\"\\nCoefficienti del modello:\")\n",
    "display(coeffs)\n",
    "\n",
    "print(\"\\nUn R² basso indica che il modello lineare non spiega efficacemente la variabilità del prezzo.\")"
   ]
  },
  {
   "cell_type": "code",
   "execution_count": null,
   "metadata": {},
   "outputs": [],
   "source": [
    "# Test di Causalità di Granger\n",
    "causality_df = df_merged[['pct_change', 'polarity_mean']].dropna()\n",
    "max_lag = 7\n",
    "\n",
    "print(f\"Test di Causalità di Granger (max_lag={max_lag})\")\n",
    "\n",
    "try:\n",
    "    granger_test_result = grangercausalitytests(causality_df, maxlag=max_lag)\n",
    "    \n",
    "    p_values = [round(granger_test_result[lag][0]['ssr_ftest'][1], 4) for lag in range(1, max_lag + 1)]\n",
    "    print(f\"\\nP-values per lag 1-{max_lag}: {p_values}\")\n",
    "    \n",
    "    if any(p < 0.05 for p in p_values):\n",
    "        print(\"\\nRisultato: Evidenza di Causalità di Granger trovata.\")\n",
    "    else:\n",
    "        print(\"\\nRisultato: Nessuna evidenza di Causalità di Granger.\")\n",
    "\n",
    "except Exception as e:\n",
    "    print(f\"\\nErrore test di Granger: {e}\")"
   ]
  },
  {
   "cell_type": "markdown",
   "metadata": {},
   "source": [
    "### Conclusioni\n",
    "\n",
    "**Risultati principali:**\n",
    "1. La correlazione diretta tra sentiment e variazione di prezzo nello stesso giorno è molto debole\n",
    "2. Il modello di regressione lineare mostra performance limitata (basso R²)\n",
    "3. Il test di Causalità di Granger valuta se il sentiment passato ha valore predittivo\n",
    "\n",
    "**Considerazioni:** Il mercato Bitcoin è influenzato da molteplici fattori complessi che il solo sentiment delle notizie non riesce a catturare completamente.\n"
   ]
  }
 ],
 "metadata": {
  "kernelspec": {
   "display_name": "Python 3",
   "language": "python",
   "name": "python3"
  },
  "language_info": {
   "codemirror_mode": {
    "name": "ipython",
    "version": 3
   },
   "file_extension": ".py",
   "mimetype": "text/x-python",
   "name": "python",
   "nbconvert_exporter": "python",
   "pygments_lexer": "ipython3",
   "version": "3.10.12"
  }
 },
 "nbformat": 4,
 "nbformat_minor": 4
}
